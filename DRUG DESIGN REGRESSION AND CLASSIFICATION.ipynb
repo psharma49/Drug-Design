{
 "cells": [
  {
   "cell_type": "code",
   "execution_count": 4,
   "metadata": {},
   "outputs": [],
   "source": [
    "import numpy as np\n",
    "import pandas as pd\n",
    "import matplotlib.pyplot as plt\n",
    "import seaborn as sns\n",
    "from sklearn import metrics\n",
    "%matplotlib inline\n",
    "\n",
    "#importing models\n",
    "from sklearn.linear_model import LinearRegression\n",
    "from sklearn.ensemble import RandomForestRegressor\n",
    "from xgboost import XGBRegressor"
   ]
  },
  {
   "cell_type": "code",
   "execution_count": 5,
   "metadata": {},
   "outputs": [],
   "source": [
    "xtrain = np.load(r\"C:\\\\Users\\\\hp\\xtrain.npy\")\n",
    "xtest  =  np.load(r\"C:\\\\Users\\\\hp\\xtest.npy\")\n",
    "ytrain = np.load(r\"C:\\\\Users\\\\hp\\ytrain.npy\")\n",
    "ytest = np.load(r\"C:\\\\Users\\\\hp\\ytest.npy\")"
   ]
  },
  {
   "cell_type": "markdown",
   "metadata": {},
   "source": [
    "<b>LINEAR REGRESSION</B>"
   ]
  },
  {
   "cell_type": "code",
   "execution_count": 6,
   "metadata": {},
   "outputs": [
    {
     "data": {
      "text/plain": [
       "LinearRegression(copy_X=True, fit_intercept=True, n_jobs=None, normalize=False)"
      ]
     },
     "execution_count": 6,
     "metadata": {},
     "output_type": "execute_result"
    }
   ],
   "source": [
    "# Create a Linear regressor\n",
    "lm = LinearRegression()\n",
    "# Train the model using the training sets \n",
    "lm.fit(xtrain, ytrain)"
   ]
  },
  {
   "cell_type": "code",
   "execution_count": 7,
   "metadata": {},
   "outputs": [
    {
     "name": "stdout",
     "output_type": "stream",
     "text": [
      "R^2: 0.2443185424018477\n"
     ]
    }
   ],
   "source": [
    "# Predicting Test data with the model\n",
    "y_test_pred = lm.predict(xtest)\n",
    "acc_linreg = metrics.r2_score(ytest, y_test_pred)\n",
    "print('R^2:', acc_linreg)"
   ]
  },
  {
   "cell_type": "markdown",
   "metadata": {},
   "source": [
    "<b>RANDOM FOREST REGRESSOR</B>"
   ]
  },
  {
   "cell_type": "code",
   "execution_count": 233,
   "metadata": {},
   "outputs": [
    {
     "data": {
      "text/plain": [
       "RandomForestRegressor(bootstrap=True, criterion='mse', max_depth=3,\n",
       "                      max_features='auto', max_leaf_nodes=5,\n",
       "                      min_impurity_decrease=0.0, min_impurity_split=None,\n",
       "                      min_samples_leaf=1, min_samples_split=2,\n",
       "                      min_weight_fraction_leaf=0.0, n_estimators=10,\n",
       "                      n_jobs=None, oob_score=False, random_state=None,\n",
       "                      verbose=0, warm_start=False)"
      ]
     },
     "execution_count": 233,
     "metadata": {},
     "output_type": "execute_result"
    }
   ],
   "source": [
    "# Create a Random Forest Regressor\n",
    "RFR = RandomForestRegressor(max_depth=3,n_estimators=10,min_weight_fraction_leaf=0.0,min_samples_split=2,max_leaf_nodes=5)\n",
    "# Train the model using the training sets \n",
    "RFR.fit(xtrain, ytrain)"
   ]
  },
  {
   "cell_type": "code",
   "execution_count": 234,
   "metadata": {},
   "outputs": [
    {
     "name": "stdout",
     "output_type": "stream",
     "text": [
      "R^2: 0.38355388380880706\n"
     ]
    }
   ],
   "source": [
    "# Predicting Test data with the model\n",
    "y_test_pred = RFR.predict(xtest)\n",
    "# Model Evaluation\n",
    "acc_rf = metrics.r2_score(ytest, y_test_pred)\n",
    "print('R^2:', acc_rf)"
   ]
  },
  {
   "cell_type": "markdown",
   "metadata": {},
   "source": [
    "<b>XGBOOST REGRESSOR</b>"
   ]
  },
  {
   "cell_type": "code",
   "execution_count": 235,
   "metadata": {},
   "outputs": [
    {
     "name": "stdout",
     "output_type": "stream",
     "text": [
      "[11:32:55] WARNING: src/objective/regression_obj.cu:152: reg:linear is now deprecated in favor of reg:squarederror.\n"
     ]
    },
    {
     "data": {
      "text/plain": [
       "XGBRegressor(base_score=0.5, booster='gbtree', colsample_bylevel=1,\n",
       "             colsample_bynode=1, colsample_bytree=1, gamma=0,\n",
       "             importance_type='gain', learning_rate=0.1, max_delta_step=0,\n",
       "             max_depth=6, min_child_weight=1, missing=None, n_estimators=200,\n",
       "             n_jobs=1, nthread=None, objective='reg:linear', random_state=0,\n",
       "             reg_alpha=0, reg_lambda=1, scale_pos_weight=1, seed=None,\n",
       "             silent=None, subsample=1, verbosity=1)"
      ]
     },
     "execution_count": 235,
     "metadata": {},
     "output_type": "execute_result"
    }
   ],
   "source": [
    "#Create a XGBoost Regressor\n",
    "xgb = XGBRegressor(learning_rate=0.1,max_depth=6,min_child_weight=1,n_estimators=200,subsample=1)\n",
    "# Train the model using the training sets \n",
    "xgb.fit(xtrain, ytrain)"
   ]
  },
  {
   "cell_type": "code",
   "execution_count": 236,
   "metadata": {},
   "outputs": [
    {
     "name": "stdout",
     "output_type": "stream",
     "text": [
      "R^2: 0.4434973253500747\n"
     ]
    }
   ],
   "source": [
    "#Predicting Test data with the model\n",
    "y_test_pred = xgb.predict(xtest)\n",
    "acc_xgb = metrics.r2_score(ytest, y_test_pred)\n",
    "print('R^2:', acc_xgb)"
   ]
  },
  {
   "cell_type": "code",
   "execution_count": 237,
   "metadata": {},
   "outputs": [],
   "source": [
    "from sklearn.neural_network import MLPRegressor\n",
    "nn = MLPRegressor(activation='relu',solver='lbfgs',hidden_layer_sizes=(300,200),random_state=1,max_iter=25000)"
   ]
  },
  {
   "cell_type": "code",
   "execution_count": 238,
   "metadata": {},
   "outputs": [
    {
     "data": {
      "text/plain": [
       "MLPRegressor(activation='relu', alpha=0.0001, batch_size='auto', beta_1=0.9,\n",
       "             beta_2=0.999, early_stopping=False, epsilon=1e-08,\n",
       "             hidden_layer_sizes=(300, 200), learning_rate='constant',\n",
       "             learning_rate_init=0.001, max_iter=25000, momentum=0.9,\n",
       "             n_iter_no_change=10, nesterovs_momentum=True, power_t=0.5,\n",
       "             random_state=1, shuffle=True, solver='lbfgs', tol=0.0001,\n",
       "             validation_fraction=0.1, verbose=False, warm_start=False)"
      ]
     },
     "execution_count": 238,
     "metadata": {},
     "output_type": "execute_result"
    }
   ],
   "source": [
    "nn.fit(xtrain,ytrain)"
   ]
  },
  {
   "cell_type": "code",
   "execution_count": 239,
   "metadata": {},
   "outputs": [
    {
     "name": "stdout",
     "output_type": "stream",
     "text": [
      "R^2: 0.3291310741405381\n"
     ]
    }
   ],
   "source": [
    "#Predicting Test data with the model\n",
    "y_test_pred = nn.predict(xtest)\n",
    "acc_nn = metrics.r2_score(ytest, y_test_pred)\n",
    "print('R^2:', acc_nn)"
   ]
  },
  {
   "cell_type": "markdown",
   "metadata": {},
   "source": [
    "<B>STACKING</B>"
   ]
  },
  {
   "cell_type": "code",
   "execution_count": 241,
   "metadata": {},
   "outputs": [
    {
     "data": {
      "text/plain": [
       "AdaBoostRegressor(base_estimator=None, learning_rate=1.0, loss='linear',\n",
       "                  n_estimators=50, random_state=None)"
      ]
     },
     "execution_count": 241,
     "metadata": {},
     "output_type": "execute_result"
    }
   ],
   "source": [
    "#Implementing Stacking\n",
    "import warnings\n",
    "from mlxtend.regressor import StackingRegressor\n",
    "from sklearn.ensemble import AdaBoostRegressor\n",
    "AdaBoostRegressor()"
   ]
  },
  {
   "cell_type": "code",
   "execution_count": 242,
   "metadata": {},
   "outputs": [],
   "source": [
    "rg1 = XGBRegressor(learning_rate=0.1,max_depth=6,min_child_weight=1,n_estimators=200,subsample=1)\n",
    "rg2 = MLPRegressor(activation='relu',solver='lbfgs',hidden_layer_sizes=(300,200),random_state=1,max_iter=25000)\n",
    "rg3 = AdaBoostRegressor(learning_rate=0.01,n_estimators=300,random_state=1)\n",
    "meta_rg1 = LinearRegression()\n",
    "srg1 = StackingRegressor(regressors=[rg1,rg2,rg3],meta_regressor=meta_rg1)"
   ]
  },
  {
   "cell_type": "code",
   "execution_count": 243,
   "metadata": {},
   "outputs": [
    {
     "name": "stdout",
     "output_type": "stream",
     "text": [
      "[11:33:47] WARNING: src/objective/regression_obj.cu:152: reg:linear is now deprecated in favor of reg:squarederror.\n"
     ]
    },
    {
     "data": {
      "text/plain": [
       "StackingRegressor(meta_regressor=LinearRegression(copy_X=True,\n",
       "                                                  fit_intercept=True,\n",
       "                                                  n_jobs=None,\n",
       "                                                  normalize=False),\n",
       "                  refit=True,\n",
       "                  regressors=[XGBRegressor(base_score=0.5, booster='gbtree',\n",
       "                                           colsample_bylevel=1,\n",
       "                                           colsample_bynode=1,\n",
       "                                           colsample_bytree=1, gamma=0,\n",
       "                                           importance_type='gain',\n",
       "                                           learning_rate=0.1, max_delta_step=0,\n",
       "                                           max_depth=6, min_child_weight=1,\n",
       "                                           missing=None, n_es...\n",
       "                                           max_iter=25000, momentum=0.9,\n",
       "                                           n_iter_no_change=10,\n",
       "                                           nesterovs_momentum=True, power_t=0.5,\n",
       "                                           random_state=1, shuffle=True,\n",
       "                                           solver='lbfgs', tol=0.0001,\n",
       "                                           validation_fraction=0.1,\n",
       "                                           verbose=False, warm_start=False),\n",
       "                              AdaBoostRegressor(base_estimator=None,\n",
       "                                                learning_rate=0.01,\n",
       "                                                loss='linear', n_estimators=300,\n",
       "                                                random_state=1)],\n",
       "                  store_train_meta_features=False,\n",
       "                  use_features_in_secondary=False, verbose=0)"
      ]
     },
     "execution_count": 243,
     "metadata": {},
     "output_type": "execute_result"
    }
   ],
   "source": [
    "srg1.fit(xtrain,ytrain)"
   ]
  },
  {
   "cell_type": "code",
   "execution_count": 244,
   "metadata": {},
   "outputs": [
    {
     "name": "stdout",
     "output_type": "stream",
     "text": [
      "R^2: 0.46554361490149976\n"
     ]
    }
   ],
   "source": [
    "#Predicting Test data with the model\n",
    "y_test_pred = srg1.predict(xtest)\n",
    "acc_srg1 = metrics.r2_score(ytest, y_test_pred)\n",
    "print('R^2:', acc_srg1)"
   ]
  },
  {
   "cell_type": "code",
   "execution_count": 245,
   "metadata": {},
   "outputs": [
    {
     "data": {
      "text/html": [
       "<div>\n",
       "<style scoped>\n",
       "    .dataframe tbody tr th:only-of-type {\n",
       "        vertical-align: middle;\n",
       "    }\n",
       "\n",
       "    .dataframe tbody tr th {\n",
       "        vertical-align: top;\n",
       "    }\n",
       "\n",
       "    .dataframe thead th {\n",
       "        text-align: right;\n",
       "    }\n",
       "</style>\n",
       "<table border=\"1\" class=\"dataframe\">\n",
       "  <thead>\n",
       "    <tr style=\"text-align: right;\">\n",
       "      <th></th>\n",
       "      <th>Model</th>\n",
       "      <th>R-squared Score</th>\n",
       "    </tr>\n",
       "  </thead>\n",
       "  <tbody>\n",
       "    <tr>\n",
       "      <td>4</td>\n",
       "      <td>Stacking</td>\n",
       "      <td>46.554361</td>\n",
       "    </tr>\n",
       "    <tr>\n",
       "      <td>2</td>\n",
       "      <td>XGBoost</td>\n",
       "      <td>44.349733</td>\n",
       "    </tr>\n",
       "    <tr>\n",
       "      <td>1</td>\n",
       "      <td>Random Forest</td>\n",
       "      <td>38.355388</td>\n",
       "    </tr>\n",
       "    <tr>\n",
       "      <td>3</td>\n",
       "      <td>Artificial Neural Network</td>\n",
       "      <td>32.913107</td>\n",
       "    </tr>\n",
       "    <tr>\n",
       "      <td>0</td>\n",
       "      <td>Linear Regression</td>\n",
       "      <td>24.431854</td>\n",
       "    </tr>\n",
       "  </tbody>\n",
       "</table>\n",
       "</div>"
      ],
      "text/plain": [
       "                       Model  R-squared Score\n",
       "4                   Stacking        46.554361\n",
       "2                    XGBoost        44.349733\n",
       "1              Random Forest        38.355388\n",
       "3  Artificial Neural Network        32.913107\n",
       "0          Linear Regression        24.431854"
      ]
     },
     "execution_count": 245,
     "metadata": {},
     "output_type": "execute_result"
    }
   ],
   "source": [
    "models = pd.DataFrame({\n",
    "    'Model': ['Linear Regression', 'Random Forest', 'XGBoost','Artificial Neural Network','Stacking'],\n",
    "    'R-squared Score': [acc_linreg*100, acc_rf*100, acc_xgb*100,acc_nn*100,acc_srg1*100]})\n",
    "models.sort_values(by='R-squared Score', ascending=False)"
   ]
  },
  {
   "cell_type": "markdown",
   "metadata": {},
   "source": [
    "# CONVERTING IT INTO A CLASSIFICATION PROBLEM"
   ]
  },
  {
   "cell_type": "code",
   "execution_count": 302,
   "metadata": {},
   "outputs": [],
   "source": [
    "#import scoring and report metrics\n",
    "from sklearn.metrics import classification_report\n",
    "from sklearn.metrics import confusion_matrix\n",
    "from sklearn.metrics import accuracy_score\n",
    "\n",
    "#import models\n",
    "from sklearn.linear_model import LogisticRegression\n",
    "from sklearn.neighbors import KNeighborsClassifier\n",
    "from sklearn.naive_bayes import GaussianNB\n",
    "from sklearn.svm import SVC\n",
    "from sklearn.ensemble import RandomForestClassifier\n",
    "from xgboost import XGBClassifier"
   ]
  },
  {
   "cell_type": "code",
   "execution_count": 303,
   "metadata": {},
   "outputs": [],
   "source": [
    "ytrain[ytrain<=-0.5]=0\n",
    "ytrain[(ytrain>-0.5) & (ytrain<=1) & (ytrain!=0)]=1\n",
    "ytrain[ytrain>1]=2\n",
    "ytest[ytest<=-0.5]=0\n",
    "ytest[(ytest>-0.5) & (ytest<=1) & (ytest!=0)]=1\n",
    "ytest[ytest>1]=2"
   ]
  },
  {
   "cell_type": "markdown",
   "metadata": {},
   "source": [
    "<b>Making Predicitions</b>"
   ]
  },
  {
   "cell_type": "markdown",
   "metadata": {},
   "source": [
    "<b>KNN</b>"
   ]
  },
  {
   "cell_type": "code",
   "execution_count": 306,
   "metadata": {},
   "outputs": [
    {
     "data": {
      "text/plain": [
       "KNeighborsClassifier(algorithm='auto', leaf_size=30, metric='minkowski',\n",
       "                     metric_params=None, n_jobs=None, n_neighbors=5, p=2,\n",
       "                     weights='uniform')"
      ]
     },
     "execution_count": 306,
     "metadata": {},
     "output_type": "execute_result"
    }
   ],
   "source": [
    "knn = KNeighborsClassifier()\n",
    "knn.fit(xtrain, ytrain)"
   ]
  },
  {
   "cell_type": "code",
   "execution_count": 307,
   "metadata": {},
   "outputs": [
    {
     "name": "stdout",
     "output_type": "stream",
     "text": [
      "0.5151515151515151\n"
     ]
    }
   ],
   "source": [
    "predictions = knn.predict(xtest)\n",
    "score_knn = accuracy_score(ytest, predictions)\n",
    "print(score_knn)"
   ]
  },
  {
   "cell_type": "code",
   "execution_count": 308,
   "metadata": {},
   "outputs": [
    {
     "name": "stdout",
     "output_type": "stream",
     "text": [
      "Confusion Matrix\n",
      " [[ 2  5  4]\n",
      " [ 4 15 11]\n",
      " [ 0  8 17]]\n",
      "Classification Report\n",
      "               precision    recall  f1-score   support\n",
      "\n",
      "         0.0       0.33      0.18      0.24        11\n",
      "         1.0       0.54      0.50      0.52        30\n",
      "         2.0       0.53      0.68      0.60        25\n",
      "\n",
      "    accuracy                           0.52        66\n",
      "   macro avg       0.47      0.45      0.45        66\n",
      "weighted avg       0.50      0.52      0.50        66\n",
      "\n"
     ]
    }
   ],
   "source": [
    "#confusion metris and classification report\n",
    "conf_mat = confusion_matrix(ytest, predictions)\n",
    "print(\"Confusion Matrix\\n\", conf_mat)\n",
    "class_rep = classification_report(ytest, predictions)\n",
    "print(\"Classification Report\\n\", class_rep)"
   ]
  },
  {
   "cell_type": "markdown",
   "metadata": {},
   "source": [
    "<b>SUPPORT VECTOR MACHINE</b>"
   ]
  },
  {
   "cell_type": "code",
   "execution_count": 310,
   "metadata": {},
   "outputs": [
    {
     "data": {
      "text/plain": [
       "SVC(C=1.0, cache_size=200, class_weight=None, coef0=0.0,\n",
       "    decision_function_shape='ovr', degree=3, gamma='auto', kernel='rbf',\n",
       "    max_iter=-1, probability=False, random_state=None, shrinking=True,\n",
       "    tol=0.001, verbose=False)"
      ]
     },
     "execution_count": 310,
     "metadata": {},
     "output_type": "execute_result"
    }
   ],
   "source": [
    "svm = SVC(gamma='auto')\n",
    "svm.fit(xtrain, ytrain)"
   ]
  },
  {
   "cell_type": "code",
   "execution_count": 311,
   "metadata": {},
   "outputs": [
    {
     "name": "stdout",
     "output_type": "stream",
     "text": [
      "0.3787878787878788\n"
     ]
    }
   ],
   "source": [
    "predictions2 = svm.predict(xtest)\n",
    "score_svm = accuracy_score(ytest, predictions2)\n",
    "print(score_svm)"
   ]
  },
  {
   "cell_type": "code",
   "execution_count": 312,
   "metadata": {},
   "outputs": [
    {
     "name": "stdout",
     "output_type": "stream",
     "text": [
      "Confusion Matrix\n",
      " [[ 2  5  4]\n",
      " [ 4 15 11]\n",
      " [ 0  8 17]]\n",
      "Classification Report\n",
      "               precision    recall  f1-score   support\n",
      "\n",
      "         0.0       0.00      0.00      0.00        11\n",
      "         1.0       0.00      0.00      0.00        30\n",
      "         2.0       0.38      1.00      0.55        25\n",
      "\n",
      "    accuracy                           0.38        66\n",
      "   macro avg       0.13      0.33      0.18        66\n",
      "weighted avg       0.14      0.38      0.21        66\n",
      "\n"
     ]
    },
    {
     "name": "stderr",
     "output_type": "stream",
     "text": [
      "C:\\Users\\hp\\Anaconda3\\lib\\site-packages\\sklearn\\metrics\\classification.py:1437: UndefinedMetricWarning: Precision and F-score are ill-defined and being set to 0.0 in labels with no predicted samples.\n",
      "  'precision', 'predicted', average, warn_for)\n"
     ]
    }
   ],
   "source": [
    "# print confusion matrix and classification report\n",
    "conf_mat2 = confusion_matrix(ytest, predictions2)\n",
    "print(\"Confusion Matrix\\n\", conf_mat)\n",
    "class_rep2 = classification_report(ytest, predictions2)\n",
    "print(\"Classification Report\\n\", class_rep2)"
   ]
  },
  {
   "cell_type": "markdown",
   "metadata": {},
   "source": [
    "<b>LOGISTIC REGRESSION</b>"
   ]
  },
  {
   "cell_type": "code",
   "execution_count": 349,
   "metadata": {},
   "outputs": [
    {
     "name": "stderr",
     "output_type": "stream",
     "text": [
      "C:\\Users\\hp\\Anaconda3\\lib\\site-packages\\sklearn\\linear_model\\logistic.py:432: FutureWarning: Default solver will be changed to 'lbfgs' in 0.22. Specify a solver to silence this warning.\n",
      "  FutureWarning)\n",
      "C:\\Users\\hp\\Anaconda3\\lib\\site-packages\\sklearn\\linear_model\\logistic.py:469: FutureWarning: Default multi_class will be changed to 'auto' in 0.22. Specify the multi_class option to silence this warning.\n",
      "  \"this warning.\", FutureWarning)\n"
     ]
    },
    {
     "data": {
      "text/plain": [
       "0.48484848484848486"
      ]
     },
     "execution_count": 349,
     "metadata": {},
     "output_type": "execute_result"
    }
   ],
   "source": [
    "LG = LogisticRegression()\n",
    "LG.fit(xtrain,ytrain)\n",
    "predictions3 = LG.predict(xtest)\n",
    "LG.score(xtest,ytest)"
   ]
  },
  {
   "cell_type": "code",
   "execution_count": 315,
   "metadata": {},
   "outputs": [
    {
     "name": "stdout",
     "output_type": "stream",
     "text": [
      "Confusion Matrix\n",
      " [[ 2  7  2]\n",
      " [ 2 17 11]\n",
      " [ 0 12 13]]\n",
      "Classification Report\n",
      "               precision    recall  f1-score   support\n",
      "\n",
      "         0.0       0.50      0.18      0.27        11\n",
      "         1.0       0.47      0.57      0.52        30\n",
      "         2.0       0.50      0.52      0.51        25\n",
      "\n",
      "    accuracy                           0.48        66\n",
      "   macro avg       0.49      0.42      0.43        66\n",
      "weighted avg       0.49      0.48      0.47        66\n",
      "\n"
     ]
    }
   ],
   "source": [
    "#confusion metris and classification report\n",
    "conf_mat3 = confusion_matrix(ytest, predictions3)\n",
    "print(\"Confusion Matrix\\n\", conf_mat3)\n",
    "class_rep3 = classification_report(ytest, predictions3)\n",
    "print(\"Classification Report\\n\", class_rep3)"
   ]
  },
  {
   "cell_type": "markdown",
   "metadata": {},
   "source": [
    "<b>RANDOM FOREST</b>"
   ]
  },
  {
   "cell_type": "code",
   "execution_count": 317,
   "metadata": {},
   "outputs": [
    {
     "data": {
      "text/plain": [
       "RandomForestClassifier(bootstrap=True, class_weight=None, criterion='gini',\n",
       "                       max_depth=None, max_features='auto', max_leaf_nodes=None,\n",
       "                       min_impurity_decrease=0.0, min_impurity_split=None,\n",
       "                       min_samples_leaf=1, min_samples_split=2,\n",
       "                       min_weight_fraction_leaf=0.0, n_estimators='warn',\n",
       "                       n_jobs=None, oob_score=False, random_state=None,\n",
       "                       verbose=0, warm_start=False)"
      ]
     },
     "execution_count": 317,
     "metadata": {},
     "output_type": "execute_result"
    }
   ],
   "source": [
    "RF = RandomForestClassifier(n_jobs=4,random_state=0,n_estimators=8,max_depth=4,max_leaf_nodes=8)\n",
    "#training the classifier\n",
    "RF.fit(xtrain,ytrain)\n",
    "predictions4 = RF.predict(xtest)\n",
    "RandomForestClassifier()"
   ]
  },
  {
   "cell_type": "code",
   "execution_count": 318,
   "metadata": {},
   "outputs": [
    {
     "data": {
      "text/plain": [
       "0.5151515151515151"
      ]
     },
     "execution_count": 318,
     "metadata": {},
     "output_type": "execute_result"
    }
   ],
   "source": [
    "RF.score(xtest,ytest)"
   ]
  },
  {
   "cell_type": "code",
   "execution_count": 319,
   "metadata": {},
   "outputs": [
    {
     "name": "stdout",
     "output_type": "stream",
     "text": [
      "Confusion Matrix\n",
      " [[ 1  8  2]\n",
      " [ 0 20 10]\n",
      " [ 0 12 13]]\n",
      "Classification Report\n",
      "               precision    recall  f1-score   support\n",
      "\n",
      "         0.0       1.00      0.09      0.17        11\n",
      "         1.0       0.50      0.67      0.57        30\n",
      "         2.0       0.52      0.52      0.52        25\n",
      "\n",
      "    accuracy                           0.52        66\n",
      "   macro avg       0.67      0.43      0.42        66\n",
      "weighted avg       0.59      0.52      0.48        66\n",
      "\n"
     ]
    }
   ],
   "source": [
    "#confusion metris and classification report\n",
    "conf_mat4 = confusion_matrix(ytest, predictions4)\n",
    "print(\"Confusion Matrix\\n\", conf_mat4)\n",
    "class_rep4 = classification_report(ytest, predictions4)\n",
    "print(\"Classification Report\\n\", class_rep4)"
   ]
  },
  {
   "cell_type": "markdown",
   "metadata": {},
   "source": [
    "<b>XGBOOST CLASSIFIER</b>"
   ]
  },
  {
   "cell_type": "code",
   "execution_count": 321,
   "metadata": {},
   "outputs": [
    {
     "data": {
      "text/plain": [
       "XGBClassifier(base_score=0.5, booster='gbtree', colsample_bylevel=1,\n",
       "              colsample_bynode=1, colsample_bytree=1, gamma=0,\n",
       "              learnign_rate=0.01, learning_rate=0.1, max_delta_step=0,\n",
       "              max_depth=7, min_child_weight=2, missing=None, n_estimators=200,\n",
       "              n_jobs=1, nthread=None, objective='multi:softprob',\n",
       "              random_state=0, reg_alpha=0, reg_lambda=1, scale_pos_weight=1,\n",
       "              seed=None, silent=None, subsample=0.5, verbosity=1)"
      ]
     },
     "execution_count": 321,
     "metadata": {},
     "output_type": "execute_result"
    }
   ],
   "source": [
    "xgb = XGBClassifier(max_depth=7,subsample=0.5,n_estimators=200,learnign_rate=0.01,min_child_weight=2,reg_alpha=0,reg_lambda=1)\n",
    "xgb.fit(xtrain,ytrain)"
   ]
  },
  {
   "cell_type": "code",
   "execution_count": 323,
   "metadata": {},
   "outputs": [
    {
     "data": {
      "text/plain": [
       "0.5303030303030303"
      ]
     },
     "execution_count": 323,
     "metadata": {},
     "output_type": "execute_result"
    }
   ],
   "source": [
    "predictions6 = xgb.predict(xtest)\n",
    "xgb.score(xtest,ytest)"
   ]
  },
  {
   "cell_type": "code",
   "execution_count": 324,
   "metadata": {},
   "outputs": [
    {
     "name": "stdout",
     "output_type": "stream",
     "text": [
      "Confusion Matrix\n",
      " [[ 2  7  2]\n",
      " [ 2 20  8]\n",
      " [ 0 12 13]]\n",
      "Classification Report\n",
      "               precision    recall  f1-score   support\n",
      "\n",
      "         0.0       0.50      0.18      0.27        11\n",
      "         1.0       0.51      0.67      0.58        30\n",
      "         2.0       0.57      0.52      0.54        25\n",
      "\n",
      "    accuracy                           0.53        66\n",
      "   macro avg       0.53      0.46      0.46        66\n",
      "weighted avg       0.53      0.53      0.51        66\n",
      "\n"
     ]
    }
   ],
   "source": [
    "#confusion metris and classification report\n",
    "conf_mat6 = confusion_matrix(ytest, predictions6)\n",
    "print(\"Confusion Matrix\\n\", conf_mat6)\n",
    "class_rep6 = classification_report(ytest, predictions6)\n",
    "print(\"Classification Report\\n\", class_rep6)"
   ]
  },
  {
   "cell_type": "markdown",
   "metadata": {},
   "source": [
    "<b>NEURAL NETWORKS</b>"
   ]
  },
  {
   "cell_type": "code",
   "execution_count": 325,
   "metadata": {},
   "outputs": [
    {
     "data": {
      "text/plain": [
       "MLPClassifier(activation='relu', alpha=0.0001, batch_size='auto', beta_1=0.9,\n",
       "              beta_2=0.999, early_stopping=False, epsilon=1e-08,\n",
       "              hidden_layer_sizes=(100,), learning_rate='constant',\n",
       "              learning_rate_init=0.001, max_iter=200, momentum=0.9,\n",
       "              n_iter_no_change=10, nesterovs_momentum=True, power_t=0.5,\n",
       "              random_state=None, shuffle=True, solver='adam', tol=0.0001,\n",
       "              validation_fraction=0.1, verbose=False, warm_start=False)"
      ]
     },
     "execution_count": 325,
     "metadata": {},
     "output_type": "execute_result"
    }
   ],
   "source": [
    "from sklearn.neural_network import MLPClassifier\n",
    "MLPClassifier()"
   ]
  },
  {
   "cell_type": "code",
   "execution_count": 326,
   "metadata": {},
   "outputs": [
    {
     "data": {
      "text/plain": [
       "0.5"
      ]
     },
     "execution_count": 326,
     "metadata": {},
     "output_type": "execute_result"
    }
   ],
   "source": [
    "nn = MLPClassifier(activation='relu',solver='lbfgs',hidden_layer_sizes=(20),random_state=1,max_iter=15)\n",
    "nn.fit(xtrain,ytrain)\n",
    "predictions7 = nn.predict(xtest)\n",
    "nn.score(xtest,ytest)"
   ]
  },
  {
   "cell_type": "code",
   "execution_count": 327,
   "metadata": {},
   "outputs": [
    {
     "name": "stdout",
     "output_type": "stream",
     "text": [
      "Confusion Matrix\n",
      " [[ 2  7  2]\n",
      " [ 3 18  9]\n",
      " [ 0 12 13]]\n",
      "Classification Report\n",
      "               precision    recall  f1-score   support\n",
      "\n",
      "         0.0       0.40      0.18      0.25        11\n",
      "         1.0       0.49      0.60      0.54        30\n",
      "         2.0       0.54      0.52      0.53        25\n",
      "\n",
      "    accuracy                           0.50        66\n",
      "   macro avg       0.48      0.43      0.44        66\n",
      "weighted avg       0.49      0.50      0.49        66\n",
      "\n"
     ]
    }
   ],
   "source": [
    "#confusion metris and classification report\n",
    "conf_mat7 = confusion_matrix(ytest, predictions7)\n",
    "print(\"Confusion Matrix\\n\", conf_mat7)\n",
    "class_rep7 = classification_report(ytest, predictions7)\n",
    "print(\"Classification Report\\n\", class_rep7)"
   ]
  },
  {
   "cell_type": "markdown",
   "metadata": {},
   "source": [
    "<b>ADABOOST CLASSIFIER</b>"
   ]
  },
  {
   "cell_type": "code",
   "execution_count": 329,
   "metadata": {},
   "outputs": [
    {
     "data": {
      "text/plain": [
       "AdaBoostClassifier(algorithm='SAMME.R', base_estimator=None, learning_rate=0.1,\n",
       "                   n_estimators=1000, random_state=1)"
      ]
     },
     "execution_count": 329,
     "metadata": {},
     "output_type": "execute_result"
    }
   ],
   "source": [
    "from sklearn.ensemble import AdaBoostClassifier\n",
    "AdaBoostClassifier(n_estimators=1000,random_state=1,learning_rate=0.1)"
   ]
  },
  {
   "cell_type": "code",
   "execution_count": 330,
   "metadata": {},
   "outputs": [
    {
     "data": {
      "text/plain": [
       "0.4090909090909091"
      ]
     },
     "execution_count": 330,
     "metadata": {},
     "output_type": "execute_result"
    }
   ],
   "source": [
    "adb = AdaBoostClassifier()\n",
    "adb.fit(xtrain,ytrain)\n",
    "predictions8 = nn.predict(xtest)\n",
    "adb.score(xtest,ytest)"
   ]
  },
  {
   "cell_type": "code",
   "execution_count": 331,
   "metadata": {},
   "outputs": [
    {
     "name": "stdout",
     "output_type": "stream",
     "text": [
      "Confusion Matrix\n",
      " [[ 2  7  2]\n",
      " [ 3 18  9]\n",
      " [ 0 12 13]]\n",
      "Classification Report\n",
      "               precision    recall  f1-score   support\n",
      "\n",
      "         0.0       0.40      0.18      0.25        11\n",
      "         1.0       0.49      0.60      0.54        30\n",
      "         2.0       0.54      0.52      0.53        25\n",
      "\n",
      "    accuracy                           0.50        66\n",
      "   macro avg       0.48      0.43      0.44        66\n",
      "weighted avg       0.49      0.50      0.49        66\n",
      "\n"
     ]
    }
   ],
   "source": [
    "#confusion metris and classification report\n",
    "conf_mat8 = confusion_matrix(ytest, predictions8)\n",
    "print(\"Confusion Matrix\\n\", conf_mat8)\n",
    "class_rep8 = classification_report(ytest, predictions8)\n",
    "print(\"Classification Report\\n\", class_rep8)"
   ]
  },
  {
   "cell_type": "markdown",
   "metadata": {},
   "source": [
    "<b>STACKING</B>"
   ]
  },
  {
   "cell_type": "code",
   "execution_count": 343,
   "metadata": {},
   "outputs": [],
   "source": [
    "#Implementing Stacking\n",
    "import warnings\n",
    "from mlxtend.classifier import StackingClassifier"
   ]
  },
  {
   "cell_type": "code",
   "execution_count": 344,
   "metadata": {},
   "outputs": [],
   "source": [
    "clf1 = MLPClassifier(activation='relu',solver='lbfgs',hidden_layer_sizes=(8),random_state=1,max_iter=10)\n",
    "clf2 = XGBClassifier(max_depth=4,subsample=0.5,n_estimators=100,learnign_rate=0.01,min_child_weight=2,reg_alpha=0,reg_lambda=1)\n",
    "clf3 = RandomForestClassifier(n_jobs=4,random_state=0,n_estimators=8,max_depth=4,max_leaf_nodes=8)\n",
    "meta_c1 = LogisticRegression()\n",
    "sclf1 = StackingClassifier(classifiers=[clf1,clf2,clf3],use_probas=True,meta_classifier=meta_c1)"
   ]
  },
  {
   "cell_type": "code",
   "execution_count": 345,
   "metadata": {},
   "outputs": [
    {
     "name": "stderr",
     "output_type": "stream",
     "text": [
      "C:\\Users\\hp\\Anaconda3\\lib\\site-packages\\sklearn\\linear_model\\logistic.py:432: FutureWarning: Default solver will be changed to 'lbfgs' in 0.22. Specify a solver to silence this warning.\n",
      "  FutureWarning)\n",
      "C:\\Users\\hp\\Anaconda3\\lib\\site-packages\\sklearn\\linear_model\\logistic.py:469: FutureWarning: Default multi_class will be changed to 'auto' in 0.22. Specify the multi_class option to silence this warning.\n",
      "  \"this warning.\", FutureWarning)\n"
     ]
    }
   ],
   "source": [
    "sclf1.fit(xtrain,ytrain)\n",
    "predictions9 =sclf1.predict(xtest)"
   ]
  },
  {
   "cell_type": "code",
   "execution_count": 346,
   "metadata": {},
   "outputs": [
    {
     "data": {
      "text/plain": [
       "0.5454545454545454"
      ]
     },
     "execution_count": 346,
     "metadata": {},
     "output_type": "execute_result"
    }
   ],
   "source": [
    "sclf1.score(xtest,ytest)"
   ]
  },
  {
   "cell_type": "code",
   "execution_count": 347,
   "metadata": {},
   "outputs": [
    {
     "name": "stdout",
     "output_type": "stream",
     "text": [
      "Confusion Matrix\n",
      " [[ 2  7  2]\n",
      " [ 2 19  9]\n",
      " [ 0 10 15]]\n",
      "Classification Report\n",
      "               precision    recall  f1-score   support\n",
      "\n",
      "         0.0       0.50      0.18      0.27        11\n",
      "         1.0       0.53      0.63      0.58        30\n",
      "         2.0       0.58      0.60      0.59        25\n",
      "\n",
      "    accuracy                           0.55        66\n",
      "   macro avg       0.53      0.47      0.48        66\n",
      "weighted avg       0.54      0.55      0.53        66\n",
      "\n"
     ]
    }
   ],
   "source": [
    "#confusion metris and classification report\n",
    "conf_mat9 = confusion_matrix(ytest, predictions9)\n",
    "print(\"Confusion Matrix\\n\", conf_mat9)\n",
    "class_rep9 = classification_report(ytest, predictions9)\n",
    "print(\"Classification Report\\n\", class_rep9)"
   ]
  },
  {
   "cell_type": "code",
   "execution_count": null,
   "metadata": {},
   "outputs": [],
   "source": []
  }
 ],
 "metadata": {
  "kernelspec": {
   "display_name": "Python 3",
   "language": "python",
   "name": "python3"
  },
  "language_info": {
   "codemirror_mode": {
    "name": "ipython",
    "version": 3
   },
   "file_extension": ".py",
   "mimetype": "text/x-python",
   "name": "python",
   "nbconvert_exporter": "python",
   "pygments_lexer": "ipython3",
   "version": "3.7.4"
  }
 },
 "nbformat": 4,
 "nbformat_minor": 2
}
